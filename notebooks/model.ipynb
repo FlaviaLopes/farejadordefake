{
 "cells": [
  {
   "cell_type": "markdown",
   "metadata": {},
   "source": [
    "## Modelo"
   ]
  },
  {
   "cell_type": "code",
   "execution_count": 1,
   "metadata": {},
   "outputs": [],
   "source": [
    "import os\n",
    "import pandas as pd\n",
    "import numpy as np\n",
    "\n",
    "from keras import models, layers, regularizers, metrics, optimizers\n",
    "from tensorflow.keras.callbacks import EarlyStopping, ModelCheckpoint\n",
    "from keras.preprocessing.text import Tokenizer\n",
    "from keras.preprocessing.sequence import pad_sequences\n",
    "from nltk.util import ngrams\n",
    "\n",
    "import collections\n",
    "import unicodedata\n",
    "\n",
    "from sklearn.model_selection import train_test_split\n",
    "from sklearn.metrics import confusion_matrix\n",
    "\n",
    "import matplotlib.pyplot as plt\n",
    "%matplotlib inline"
   ]
  },
  {
   "cell_type": "code",
   "execution_count": 2,
   "metadata": {},
   "outputs": [],
   "source": [
    "df = pd.read_csv('../data/interim/tweets_aos_fatos_saude.csv')"
   ]
  },
  {
   "cell_type": "code",
   "execution_count": 3,
   "metadata": {},
   "outputs": [],
   "source": [
    "def preprocess_embeddings(embeddings_path, max_words, embedding_dim, word_index):\n",
    "    \n",
    "    # Strongly inspired by listings 6.10 and 6.11 of \"Deep Learning with Python\", Francois Chollet, Manning.\n",
    "    \n",
    "    embeddings_idx = {};\n",
    "    embeddings_file = open(embeddings_path)\n",
    "    for row in embeddings_file:\n",
    "        split_row = row.split(' ')\n",
    "        if len(split_row) > 51:\n",
    "            word = ' '.join(split_row[0:len(split_row) - 50])\n",
    "            values = np.asarray(split_row[-50:])\n",
    "        else:\n",
    "            word = split_row[0]\n",
    "            values = np.asarray(split_row[1:])\n",
    "        embeddings_idx[word] = values\n",
    "    embeddings_file.close()\n",
    "    print(str(len(embeddings_idx)) + \" words detected.\")\n",
    "    \n",
    "    embeddings_mat = np.zeros((max_words, embedding_dim))\n",
    "    print(embeddings_mat.shape)\n",
    "    \n",
    "    for word, idx in word_index.items():\n",
    "        if (idx < max_words):\n",
    "            embedding_vector = embeddings_idx.get(word)\n",
    "            if embedding_vector is not None:\n",
    "                embeddings_mat[idx] = embedding_vector\n",
    "    \n",
    "    return embeddings_mat\n",
    "\n",
    "def build_model_nlp_lstm(regression_problem, max_words, embedding_dim, max_len, pre_trained_embeddings, embeddings_matrix, lstm_bidirectional, lstm_layers_neurons, lstm_layers_recurrent_dropout, lstm_layers_dropout, hidden_layers_neurons, hidden_activation_function, L1_coeffs, L2_coeffs, hidden_layers_dropout, final_layer_neurons, final_activation_function, model_optimizer, loss_function, metrics):\n",
    "    \n",
    "    model = models.Sequential()\n",
    "    model.add(layers.Embedding(max_words,embedding_dim,input_length = max_len))\n",
    "    if (pre_trained_embeddings == True):\n",
    "        model.layers[0].set_weights([embeddings_matrix])\n",
    "        model.layers[0].trainable = False\n",
    "        \n",
    "    for i in range(len(lstm_layers_neurons)):\n",
    "        if ((i == 0) & (len(lstm_layers_neurons) > 1)):\n",
    "            return_sequences_bool = True\n",
    "        else:\n",
    "            return_sequences_bool = False\n",
    "            \n",
    "        if (lstm_bidirectional == True):\n",
    "            model.add(\n",
    "                layers.Bidirectional(\n",
    "                    layers.LSTM(\n",
    "                        lstm_layers_neurons[i],\n",
    "                        return_sequences = return_sequences_bool, \n",
    "                        recurrent_dropout = lstm_layers_recurrent_dropout[i], \n",
    "                        dropout = lstm_layers_dropout[i]\n",
    "                    )\n",
    "                )\n",
    "            )            \n",
    "        else:\n",
    "             model.add(\n",
    "                 layers.LSTM(\n",
    "                     lstm_layers_neurons[i],\n",
    "                     return_sequences = return_sequences_bool, \n",
    "                     recurrent_dropout = lstm_layers_recurrent_dropout[i], \n",
    "                     dropout = lstm_layers_dropout[i]\n",
    "                 )\n",
    "             )\n",
    "    \n",
    "    for i in range(len(hidden_activation_function)):        \n",
    "        model.add(\n",
    "            layers.Dense(\n",
    "                hidden_layers_neurons[i], \n",
    "                kernel_regularizer = regularizers.l1_l2(l1 = L1_coeffs[i], l2 =  L2_coeffs[i]),  \n",
    "                activation=hidden_activation_function[i]\n",
    "            )\n",
    "        )\n",
    "        if (hidden_layers_dropout[i] > 0.0):\n",
    "            model.add(layers.Dropout(hidden_layers_dropout[i]))\n",
    "            \n",
    "    if regression_problem:\n",
    "        model.add(layers.Dense(final_layer_neurons))\n",
    "    else:\n",
    "        model.add(\n",
    "            layers.Dense(\n",
    "                final_layer_neurons,\n",
    "                activation = final_activation_function\n",
    "            )\n",
    "        )\n",
    "            \n",
    "    model.compile(optimizer = model_optimizer, loss = loss_function, metrics = metrics)    \n",
    "    return model\n",
    "\n",
    "\n",
    "def analyze_performances(hst, epochs):\n",
    "    \n",
    "    history_dict             = hst.history\n",
    "    loss_values              = history_dict['loss']\n",
    "    validation_loss_values   = history_dict['val_loss']\n",
    "    acc_values               = history_dict['accuracy']\n",
    "    validation_acc_values    = history_dict['val_accuracy']\n",
    "    epochs                   = range(1,len(loss_values) + 1)\n",
    "    fig, axes                = plt.subplots(1,2,figsize = (20,10))\n",
    "    training_ts              = [loss_values, acc_values]\n",
    "    validation_ts            = [validation_loss_values, validation_acc_values]\n",
    "    metric_names             = ['loss', 'accuracy']\n",
    "    for i in range(len(axes)):\n",
    "        axes[i].plot(epochs,training_ts[i],color = 'r',label = 'training')\n",
    "        axes[i].plot(epochs,validation_ts[i],color = 'b',label = 'validation')\n",
    "        axes[i].set_xlabel('epoch')\n",
    "        axes[i].set_ylabel(metric_names[i])\n",
    "        axes[i].set_title(metric_names[i] + ' analysis')\n",
    "        axes[i].set_xticks(np.arange(0,epochs[-1] + 1,5))\n",
    "        axes[i].set_yticks(np.arange(0,1.1,0.1))\n",
    "        axes[i].set_xlim([1,epochs[-1]])\n",
    "        axes[i].set_ylim([0,1])\n",
    "        axes[i].legend()\n",
    "    plt.show()\n",
    "\n",
    "\n",
    "def model_evaluation(model, x_test, y_test):\n",
    "    \n",
    "    predictions = model.predict_classes(x_test)\n",
    "    matrix      = confusion_matrix(y_test,predictions.flatten())\n",
    "    rel_matrix  = matrix/np.sum(matrix,axis = 0)\n",
    "    fig, axes   = plt.subplots(1,2,figsize = (20,40))\n",
    "    class_labels= np.unique(y_test)\n",
    "\n",
    "    image1 = axes[0].imshow(matrix, cmap=plt.get_cmap('GnBu'))\n",
    "    for (i, j), e in np.ndenumerate(matrix):\n",
    "        axes[0].text(j, i, s = str(e), ha='center', va='center')\n",
    "    axes[0].set_xticks(np.arange(0,len(class_labels), 1))\n",
    "    axes[0].set_xticklabels(class_labels)\n",
    "    axes[0].set_yticks(np.arange(0,len(class_labels), 1))\n",
    "    axes[0].set_yticklabels(class_labels)\n",
    "    axes[0].set_title('Confusion Matrix')\n",
    "    \n",
    "    image2 = axes[1].imshow(matrix/np.sum(matrix,axis = 0), cmap=plt.get_cmap('GnBu'))\n",
    "    for (i, j), e in np.ndenumerate(rel_matrix):\n",
    "        axes[1].text(j, i, s = str(np.round(e,2)), ha='center', va='center')\n",
    "    axes[1].set_xticks(np.arange(0,len(class_labels), 1))\n",
    "    axes[1].set_xticklabels(class_labels)\n",
    "    axes[1].set_yticks(np.arange(0,len(class_labels), 1))\n",
    "    axes[1].set_yticklabels(class_labels)\n",
    "    plt.subplots_adjust(wspace = 0.5)\n",
    "    axes[1].set_title('Confusion Matrix (Relative)')                      \n",
    "    plt.show()"
   ]
  },
  {
   "cell_type": "code",
   "execution_count": 4,
   "metadata": {},
   "outputs": [],
   "source": [
    "test_split                     = 0.2\n",
    "regression_problem             = False\n",
    "max_words                      = 20000\n",
    "embedding_dim                  = 50\n",
    "max_len                        = 250\n",
    "pre_trained_embeddings         = True\n",
    "\n",
    "# embedding de 50 dimensões já treinado obtidos em nilc\n",
    "# http://www.nilc.icmc.usp.br/embeddings\n",
    "pre_trained_embeddings_path    =  f'../data/raw/skip_s{embedding_dim}.txt'\n",
    "\n",
    "lstm_bidirectional             = True\n",
    "lstm_layers_neurons            = [64,32]\n",
    "lstm_layers_recurrent_dropout  = [0.20,0.1]\n",
    "lstm_layers_dropout            = [0.20,0.1]\n",
    "hidden_activation_function     = ['relu']\n",
    "hidden_layers_neurons          = [64]\n",
    "hidden_layers_L1_coeffs        = [0.00]\n",
    "hidden_layers_L2_coeffs        = [0.00]\n",
    "hidden_layers_dropout          = [0.00]\n",
    "final_activation_function      = 'sigmoid'\n",
    "final_layer_neurons            = 1\n",
    "model_optimizer                = optimizers.RMSprop(lr=1e-4)\n",
    "loss_function                  = 'binary_crossentropy'\n",
    "metrics                        = ['accuracy']\n",
    "n_epochs                       = 25\n",
    "batch_size                     = 275"
   ]
  },
  {
   "cell_type": "code",
   "execution_count": 5,
   "metadata": {},
   "outputs": [],
   "source": [
    "x_train,x_test,y_train,y_test = train_test_split(df.tweet, df.desinfo, random_state = 0, test_size=test_split)"
   ]
  },
  {
   "cell_type": "code",
   "execution_count": 6,
   "metadata": {},
   "outputs": [],
   "source": [
    "tokenizer=Tokenizer(num_words = max_words)#, oov_tok = \"<OOV>\")\n",
    "tokenizer.fit_on_texts(x_train)\n",
    "train_sequences = tokenizer.texts_to_sequences(x_train)\n",
    "word_index = tokenizer.word_index\n",
    "x_train = pad_sequences(train_sequences,maxlen = max_len, padding='post', truncating='post')\n",
    "\n",
    "\n",
    "test_sequences = tokenizer.texts_to_sequences(x_test)\n",
    "x_test = pad_sequences(test_sequences,maxlen = max_len,padding='post', truncating='post')"
   ]
  },
  {
   "cell_type": "code",
   "execution_count": 7,
   "metadata": {},
   "outputs": [
    {
     "name": "stdout",
     "output_type": "stream",
     "text": [
      "929607 words detected.\n",
      "(20000, 50)\n"
     ]
    }
   ],
   "source": [
    "embeddings_matrix = preprocess_embeddings(pre_trained_embeddings_path, max_words, embedding_dim, word_index)"
   ]
  },
  {
   "cell_type": "code",
   "execution_count": 8,
   "metadata": {},
   "outputs": [],
   "source": [
    "model = build_model_nlp_lstm(\n",
    "    regression_problem, \n",
    "    max_words, \n",
    "    embedding_dim, \n",
    "    max_len, \n",
    "    pre_trained_embeddings, \n",
    "    embeddings_matrix, \n",
    "    lstm_bidirectional,\n",
    "    lstm_layers_neurons, \n",
    "    lstm_layers_recurrent_dropout, \n",
    "    lstm_layers_dropout,\n",
    "    hidden_layers_neurons, \n",
    "    hidden_activation_function, \n",
    "    hidden_layers_L1_coeffs, \n",
    "    hidden_layers_L2_coeffs, \n",
    "    hidden_layers_dropout, \n",
    "    final_layer_neurons, \n",
    "    final_activation_function, \n",
    "    model_optimizer, \n",
    "    loss_function, \n",
    "    metrics\n",
    ")"
   ]
  },
  {
   "cell_type": "code",
   "execution_count": 9,
   "metadata": {},
   "outputs": [
    {
     "data": {
      "text/plain": [
       "(9547,)"
      ]
     },
     "execution_count": 9,
     "metadata": {},
     "output_type": "execute_result"
    }
   ],
   "source": [
    "y_train.shape"
   ]
  },
  {
   "cell_type": "code",
   "execution_count": 10,
   "metadata": {},
   "outputs": [
    {
     "name": "stdout",
     "output_type": "stream",
     "text": [
      "Epoch 1/25\n",
      "34/34 [==============================] - 105s 3s/step - loss: 0.6043 - accuracy: 0.9618 - val_loss: 0.5026 - val_accuracy: 0.9887\n",
      "Epoch 2/25\n",
      "34/34 [==============================] - 71s 2s/step - loss: 0.3731 - accuracy: 0.9879 - val_loss: 0.2231 - val_accuracy: 0.9887\n",
      "Epoch 3/25\n",
      "34/34 [==============================] - 64s 2s/step - loss: 0.1323 - accuracy: 0.9876 - val_loss: 0.0726 - val_accuracy: 0.9887\n",
      "Epoch 4/25\n",
      "34/34 [==============================] - 59s 2s/step - loss: 0.0688 - accuracy: 0.9879 - val_loss: 0.0629 - val_accuracy: 0.9887\n",
      "Epoch 5/25\n",
      "34/34 [==============================] - 94s 3s/step - loss: 0.0678 - accuracy: 0.9876 - val_loss: 0.0620 - val_accuracy: 0.9887\n",
      "Epoch 6/25\n",
      "34/34 [==============================] - 80s 2s/step - loss: 0.0653 - accuracy: 0.9880 - val_loss: 0.0619 - val_accuracy: 0.9887\n",
      "Epoch 7/25\n",
      "34/34 [==============================] - 63s 2s/step - loss: 0.0685 - accuracy: 0.9873 - val_loss: 0.0619 - val_accuracy: 0.9887\n",
      "Epoch 8/25\n",
      "34/34 [==============================] - 61s 2s/step - loss: 0.0645 - accuracy: 0.9881 - val_loss: 0.0618 - val_accuracy: 0.9887\n",
      "Epoch 9/25\n",
      "34/34 [==============================] - 57s 2s/step - loss: 0.0593 - accuracy: 0.9893 - val_loss: 0.0618 - val_accuracy: 0.9887\n",
      "Epoch 10/25\n",
      "34/34 [==============================] - 57s 2s/step - loss: 0.0665 - accuracy: 0.9877 - val_loss: 0.0618 - val_accuracy: 0.9887\n",
      "Epoch 11/25\n",
      "34/34 [==============================] - 57s 2s/step - loss: 0.0669 - accuracy: 0.9876 - val_loss: 0.0617 - val_accuracy: 0.9887\n",
      "Epoch 12/25\n",
      "34/34 [==============================] - 57s 2s/step - loss: 0.0649 - accuracy: 0.9880 - val_loss: 0.0617 - val_accuracy: 0.9887\n",
      "Epoch 13/25\n",
      "34/34 [==============================] - 59s 2s/step - loss: 0.0657 - accuracy: 0.9878 - val_loss: 0.0617 - val_accuracy: 0.9887\n",
      "Epoch 14/25\n",
      "34/34 [==============================] - 57s 2s/step - loss: 0.0712 - accuracy: 0.9865 - val_loss: 0.0616 - val_accuracy: 0.9887\n",
      "Epoch 15/25\n",
      "34/34 [==============================] - 57s 2s/step - loss: 0.0660 - accuracy: 0.9877 - val_loss: 0.0617 - val_accuracy: 0.9887\n",
      "Epoch 16/25\n",
      "34/34 [==============================] - 57s 2s/step - loss: 0.0617 - accuracy: 0.9887 - val_loss: 0.0616 - val_accuracy: 0.9887\n",
      "Epoch 17/25\n",
      "34/34 [==============================] - 57s 2s/step - loss: 0.0650 - accuracy: 0.9879 - val_loss: 0.0614 - val_accuracy: 0.9887\n",
      "Epoch 18/25\n",
      "34/34 [==============================] - 58s 2s/step - loss: 0.0632 - accuracy: 0.9882 - val_loss: 0.0612 - val_accuracy: 0.9887\n",
      "Epoch 19/25\n",
      "34/34 [==============================] - 64s 2s/step - loss: 0.0627 - accuracy: 0.9884 - val_loss: 0.0610 - val_accuracy: 0.9887\n",
      "Epoch 20/25\n",
      "34/34 [==============================] - 57s 2s/step - loss: 0.0660 - accuracy: 0.9875 - val_loss: 0.0610 - val_accuracy: 0.9887\n",
      "Epoch 21/25\n",
      "34/34 [==============================] - 58s 2s/step - loss: 0.0681 - accuracy: 0.9869 - val_loss: 0.0610 - val_accuracy: 0.9887\n",
      "Epoch 22/25\n",
      "34/34 [==============================] - 57s 2s/step - loss: 0.0617 - accuracy: 0.9882 - val_loss: 0.0604 - val_accuracy: 0.9887\n",
      "Epoch 23/25\n",
      "34/34 [==============================] - 57s 2s/step - loss: 0.0673 - accuracy: 0.9871 - val_loss: 0.0607 - val_accuracy: 0.9887\n",
      "Epoch 24/25\n",
      "34/34 [==============================] - 58s 2s/step - loss: 0.0610 - accuracy: 0.9886 - val_loss: 0.0604 - val_accuracy: 0.9887\n",
      "Epoch 25/25\n",
      "34/34 [==============================] - 58s 2s/step - loss: 0.0609 - accuracy: 0.9882 - val_loss: 0.0608 - val_accuracy: 0.9887\n"
     ]
    }
   ],
   "source": [
    "model.compile(optimizer = model_optimizer, loss = loss_function, metrics = metrics)\n",
    "early_exit = EarlyStopping(monitor='val_loss', patience=10, verbose=0, mode='min')\n",
    "hst = model.fit(\n",
    "    x_train, \n",
    "    y_train, \n",
    "    epochs = n_epochs, \n",
    "    batch_size = batch_size, \n",
    "    steps_per_epoch = x_train.shape[0]//batch_size, \n",
    "    validation_data = (x_test, y_test), \n",
    "    verbose = 1, \n",
    "    callbacks =[early_exit]\n",
    ")"
   ]
  },
  {
   "cell_type": "code",
   "execution_count": 11,
   "metadata": {},
   "outputs": [
    {
     "data": {
      "image/png": "[encoded data removed]",
      "text/plain": [
       "<Figure size 1440x720 with 2 Axes>"
      ]
     },
     "metadata": {
      "needs_background": "light"
     },
     "output_type": "display_data"
    }
   ],
   "source": [
    "analyze_performances(hst, n_epochs)"
   ]
  },
  {
   "cell_type": "code",
   "execution_count": 12,
   "metadata": {},
   "outputs": [
    {
     "name": "stdout",
     "output_type": "stream",
     "text": [
      "WARNING:tensorflow:From <ipython-input-3-d8c574c24a80>:118: Sequential.predict_classes (from tensorflow.python.keras.engine.sequential) is deprecated and will be removed after 2021-01-01.\n",
      "Instructions for updating:\n",
      "Please use instead:* `np.argmax(model.predict(x), axis=-1)`,   if your model does multi-class classification   (e.g. if it uses a `softmax` last-layer activation).* `(model.predict(x) > 0.5).astype(\"int32\")`,   if your model does binary classification   (e.g. if it uses a `sigmoid` last-layer activation).\n"
     ]
    },
    {
     "name": "stderr",
     "output_type": "stream",
     "text": [
      "/home/flavia/.virtualenvs/farejadordefake/lib/python3.6/site-packages/ipykernel_launcher.py:120: RuntimeWarning: invalid value encountered in true_divide\n",
      "/home/flavia/.virtualenvs/farejadordefake/lib/python3.6/site-packages/ipykernel_launcher.py:133: RuntimeWarning: invalid value encountered in true_divide\n"
     ]
    },
    {
     "data": {
      "image/png": "[encoded data removed]",
      "text/plain": [
       "<Figure size 1440x2880 with 2 Axes>"
      ]
     },
     "metadata": {
      "needs_background": "light"
     },
     "output_type": "display_data"
    }
   ],
   "source": [
    "model_evaluation(model, x_test, y_test)"
   ]
  }
 ],
 "metadata": {
  "kernelspec": {
   "display_name": "Python 3",
   "language": "python",
   "name": "python3"
  },
  "language_info": {
   "codemirror_mode": {
    "name": "ipython",
    "version": 3
   },
   "file_extension": ".py",
   "mimetype": "text/x-python",
   "name": "python",
   "nbconvert_exporter": "python",
   "pygments_lexer": "ipython3",
   "version": "3.6.9"
  }
 },
 "nbformat": 4,
 "nbformat_minor": 4
}
