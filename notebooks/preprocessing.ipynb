{
 "cells": [
  {
   "cell_type": "markdown",
   "metadata": {},
   "source": [
    "## Pré Processamento\n",
    "### Carregando dados e fazendo limpeza básica"
   ]
  },
  {
   "cell_type": "code",
   "execution_count": 1,
   "metadata": {},
   "outputs": [],
   "source": [
    "import pandas as pd\n",
    "import numpy as np"
   ]
  },
  {
   "cell_type": "code",
   "execution_count": 2,
   "metadata": {},
   "outputs": [],
   "source": [
    "sheets = ['mar-abr', 'abr-mai', 'mai-jun', 'jun-jul', 'jul-ago', 'ago-set']\n",
    "cols = ['id','conversation_id','created_at','date','time','timezone','user_id','username','name','tweet','categoria','desinfo','mentions','urls','replies_count','retweets_count','likes_count','hashtags','link','retweet','quote_url','user_rt_id','user_rt','retweet_id','reply_to','popularidade']\n",
    "raw_data = '../data/raw/tweets_aos_fatos_saude.xlsx'"
   ]
  },
  {
   "cell_type": "code",
   "execution_count": 3,
   "metadata": {},
   "outputs": [],
   "source": [
    "mar_abr = pd.read_excel(raw_data, sheet_name=sheets[0])\n",
    "abr_mai = pd.read_excel(raw_data, sheet_name=sheets[1])\n",
    "mai_jun = pd.read_excel(raw_data, sheet_name=sheets[2])\n",
    "jun_jul = pd.read_excel(raw_data, sheet_name=sheets[3])\n",
    "jul_ago = pd.read_excel(raw_data, sheet_name=sheets[4])\n",
    "ago_set = pd.read_excel(raw_data, sheet_name=sheets[5])"
   ]
  },
  {
   "cell_type": "code",
   "execution_count": 4,
   "metadata": {},
   "outputs": [],
   "source": [
    "mar_abr.drop(mar_abr.columns[0:2], axis=1, inplace=True)\n",
    "mar_abr.rename(columns={'desinf': 'desinfo'}, inplace=True)\n",
    "abr_mai.drop(abr_mai.columns[0:2], axis=1, inplace=True)\n",
    "mai_jun.drop(mai_jun.columns[0:2], axis=1, inplace=True)\n",
    "jun_jul.drop(jun_jul.columns[0:2], axis=1, inplace=True)\n",
    "jul_ago.drop(jul_ago.columns[0:2], axis=1, inplace=True)\n",
    "ago_set.drop(ago_set.columns[0:2], axis=1, inplace=True)"
   ]
  },
  {
   "cell_type": "code",
   "execution_count": 5,
   "metadata": {},
   "outputs": [],
   "source": [
    "frames = [mar_abr, abr_mai, mai_jun, jun_jul, jul_ago, ago_set]\n",
    "df = pd.concat(frames)"
   ]
  },
  {
   "cell_type": "code",
   "execution_count": 6,
   "metadata": {},
   "outputs": [
    {
     "data": {
      "text/plain": [
       "Index(['id', 'conversation_id', 'created_at', 'date', 'time', 'timezone',\n",
       "       'user_id', 'username', 'name', 'tweet', 'categoria', 'desinfo',\n",
       "       'mentions', 'urls', 'replies_count', 'retweets_count', 'likes_count',\n",
       "       'hashtags', 'link', 'retweet', 'quote_url', 'user_rt_id', 'user_rt',\n",
       "       'retweet_id', 'reply_to', 'popularidade'],\n",
       "      dtype='object')"
      ]
     },
     "execution_count": 6,
     "metadata": {},
     "output_type": "execute_result"
    }
   ],
   "source": [
    "df.columns"
   ]
  },
  {
   "cell_type": "code",
   "execution_count": 7,
   "metadata": {},
   "outputs": [
    {
     "data": {
      "text/plain": [
       "(11988, 26)"
      ]
     },
     "execution_count": 7,
     "metadata": {},
     "output_type": "execute_result"
    }
   ],
   "source": [
    "df.shape"
   ]
  },
  {
   "cell_type": "code",
   "execution_count": 8,
   "metadata": {},
   "outputs": [
    {
     "data": {
      "text/html": [
       "<div>\n",
       "<style scoped>\n",
       "    .dataframe tbody tr th:only-of-type {\n",
       "        vertical-align: middle;\n",
       "    }\n",
       "\n",
       "    .dataframe tbody tr th {\n",
       "        vertical-align: top;\n",
       "    }\n",
       "\n",
       "    .dataframe thead th {\n",
       "        text-align: right;\n",
       "    }\n",
       "</style>\n",
       "<table border=\"1\" class=\"dataframe\">\n",
       "  <thead>\n",
       "    <tr style=\"text-align: right;\">\n",
       "      <th></th>\n",
       "      <th>count</th>\n",
       "      <th>mean</th>\n",
       "      <th>std</th>\n",
       "      <th>min</th>\n",
       "      <th>25%</th>\n",
       "      <th>50%</th>\n",
       "      <th>75%</th>\n",
       "      <th>max</th>\n",
       "    </tr>\n",
       "  </thead>\n",
       "  <tbody>\n",
       "    <tr>\n",
       "      <th>id</th>\n",
       "      <td>11988.0</td>\n",
       "      <td>1.271208e+18</td>\n",
       "      <td>1.853411e+16</td>\n",
       "      <td>1.239025e+18</td>\n",
       "      <td>1.252550e+18</td>\n",
       "      <td>1.270801e+18</td>\n",
       "      <td>1.286719e+18</td>\n",
       "      <td>1.303480e+18</td>\n",
       "    </tr>\n",
       "    <tr>\n",
       "      <th>conversation_id</th>\n",
       "      <td>11988.0</td>\n",
       "      <td>1.271199e+18</td>\n",
       "      <td>1.852944e+16</td>\n",
       "      <td>1.239025e+18</td>\n",
       "      <td>1.252550e+18</td>\n",
       "      <td>1.270801e+18</td>\n",
       "      <td>1.286710e+18</td>\n",
       "      <td>1.303480e+18</td>\n",
       "    </tr>\n",
       "    <tr>\n",
       "      <th>created_at</th>\n",
       "      <td>11988.0</td>\n",
       "      <td>1.591915e+12</td>\n",
       "      <td>4.418876e+09</td>\n",
       "      <td>1.584241e+12</td>\n",
       "      <td>1.587466e+12</td>\n",
       "      <td>1.591818e+12</td>\n",
       "      <td>1.595613e+12</td>\n",
       "      <td>1.599609e+12</td>\n",
       "    </tr>\n",
       "    <tr>\n",
       "      <th>user_id</th>\n",
       "      <td>11988.0</td>\n",
       "      <td>3.903617e+17</td>\n",
       "      <td>5.179402e+17</td>\n",
       "      <td>7.906800e+05</td>\n",
       "      <td>5.953443e+07</td>\n",
       "      <td>1.171550e+09</td>\n",
       "      <td>1.003301e+18</td>\n",
       "      <td>1.297712e+18</td>\n",
       "    </tr>\n",
       "    <tr>\n",
       "      <th>replies_count</th>\n",
       "      <td>11988.0</td>\n",
       "      <td>1.387674e+02</td>\n",
       "      <td>5.297275e+02</td>\n",
       "      <td>0.000000e+00</td>\n",
       "      <td>1.200000e+01</td>\n",
       "      <td>3.200000e+01</td>\n",
       "      <td>9.300000e+01</td>\n",
       "      <td>2.284200e+04</td>\n",
       "    </tr>\n",
       "    <tr>\n",
       "      <th>retweets_count</th>\n",
       "      <td>11988.0</td>\n",
       "      <td>5.518212e+02</td>\n",
       "      <td>1.271789e+03</td>\n",
       "      <td>0.000000e+00</td>\n",
       "      <td>6.500000e+01</td>\n",
       "      <td>1.740000e+02</td>\n",
       "      <td>5.002500e+02</td>\n",
       "      <td>2.825900e+04</td>\n",
       "    </tr>\n",
       "    <tr>\n",
       "      <th>likes_count</th>\n",
       "      <td>11988.0</td>\n",
       "      <td>2.649046e+03</td>\n",
       "      <td>6.454799e+03</td>\n",
       "      <td>6.300000e+01</td>\n",
       "      <td>3.930000e+02</td>\n",
       "      <td>9.025000e+02</td>\n",
       "      <td>2.301250e+03</td>\n",
       "      <td>1.632350e+05</td>\n",
       "    </tr>\n",
       "    <tr>\n",
       "      <th>user_rt_id</th>\n",
       "      <td>0.0</td>\n",
       "      <td>NaN</td>\n",
       "      <td>NaN</td>\n",
       "      <td>NaN</td>\n",
       "      <td>NaN</td>\n",
       "      <td>NaN</td>\n",
       "      <td>NaN</td>\n",
       "      <td>NaN</td>\n",
       "    </tr>\n",
       "    <tr>\n",
       "      <th>user_rt</th>\n",
       "      <td>0.0</td>\n",
       "      <td>NaN</td>\n",
       "      <td>NaN</td>\n",
       "      <td>NaN</td>\n",
       "      <td>NaN</td>\n",
       "      <td>NaN</td>\n",
       "      <td>NaN</td>\n",
       "      <td>NaN</td>\n",
       "    </tr>\n",
       "    <tr>\n",
       "      <th>retweet_id</th>\n",
       "      <td>0.0</td>\n",
       "      <td>NaN</td>\n",
       "      <td>NaN</td>\n",
       "      <td>NaN</td>\n",
       "      <td>NaN</td>\n",
       "      <td>NaN</td>\n",
       "      <td>NaN</td>\n",
       "      <td>NaN</td>\n",
       "    </tr>\n",
       "    <tr>\n",
       "      <th>popularidade</th>\n",
       "      <td>11988.0</td>\n",
       "      <td>3.200867e+03</td>\n",
       "      <td>7.653605e+03</td>\n",
       "      <td>1.090000e+02</td>\n",
       "      <td>4.750000e+02</td>\n",
       "      <td>1.090000e+03</td>\n",
       "      <td>2.808000e+03</td>\n",
       "      <td>1.914940e+05</td>\n",
       "    </tr>\n",
       "  </tbody>\n",
       "</table>\n",
       "</div>"
      ],
      "text/plain": [
       "                   count          mean           std           min  \\\n",
       "id               11988.0  1.271208e+18  1.853411e+16  1.239025e+18   \n",
       "conversation_id  11988.0  1.271199e+18  1.852944e+16  1.239025e+18   \n",
       "created_at       11988.0  1.591915e+12  4.418876e+09  1.584241e+12   \n",
       "user_id          11988.0  3.903617e+17  5.179402e+17  7.906800e+05   \n",
       "replies_count    11988.0  1.387674e+02  5.297275e+02  0.000000e+00   \n",
       "retweets_count   11988.0  5.518212e+02  1.271789e+03  0.000000e+00   \n",
       "likes_count      11988.0  2.649046e+03  6.454799e+03  6.300000e+01   \n",
       "user_rt_id           0.0           NaN           NaN           NaN   \n",
       "user_rt              0.0           NaN           NaN           NaN   \n",
       "retweet_id           0.0           NaN           NaN           NaN   \n",
       "popularidade     11988.0  3.200867e+03  7.653605e+03  1.090000e+02   \n",
       "\n",
       "                          25%           50%           75%           max  \n",
       "id               1.252550e+18  1.270801e+18  1.286719e+18  1.303480e+18  \n",
       "conversation_id  1.252550e+18  1.270801e+18  1.286710e+18  1.303480e+18  \n",
       "created_at       1.587466e+12  1.591818e+12  1.595613e+12  1.599609e+12  \n",
       "user_id          5.953443e+07  1.171550e+09  1.003301e+18  1.297712e+18  \n",
       "replies_count    1.200000e+01  3.200000e+01  9.300000e+01  2.284200e+04  \n",
       "retweets_count   6.500000e+01  1.740000e+02  5.002500e+02  2.825900e+04  \n",
       "likes_count      3.930000e+02  9.025000e+02  2.301250e+03  1.632350e+05  \n",
       "user_rt_id                NaN           NaN           NaN           NaN  \n",
       "user_rt                   NaN           NaN           NaN           NaN  \n",
       "retweet_id                NaN           NaN           NaN           NaN  \n",
       "popularidade     4.750000e+02  1.090000e+03  2.808000e+03  1.914940e+05  "
      ]
     },
     "execution_count": 8,
     "metadata": {},
     "output_type": "execute_result"
    }
   ],
   "source": [
    "# remover colunas user_rt_id, user_rt, retweet_id\n",
    "df.describe().T"
   ]
  },
  {
   "cell_type": "code",
   "execution_count": 9,
   "metadata": {},
   "outputs": [
    {
     "data": {
      "text/html": [
       "<div>\n",
       "<style scoped>\n",
       "    .dataframe tbody tr th:only-of-type {\n",
       "        vertical-align: middle;\n",
       "    }\n",
       "\n",
       "    .dataframe tbody tr th {\n",
       "        vertical-align: top;\n",
       "    }\n",
       "\n",
       "    .dataframe thead th {\n",
       "        text-align: right;\n",
       "    }\n",
       "</style>\n",
       "<table border=\"1\" class=\"dataframe\">\n",
       "  <thead>\n",
       "    <tr style=\"text-align: right;\">\n",
       "      <th></th>\n",
       "      <th>count</th>\n",
       "      <th>unique</th>\n",
       "      <th>top</th>\n",
       "      <th>freq</th>\n",
       "    </tr>\n",
       "  </thead>\n",
       "  <tbody>\n",
       "    <tr>\n",
       "      <th>date</th>\n",
       "      <td>11988</td>\n",
       "      <td>167</td>\n",
       "      <td>2020-07-07</td>\n",
       "      <td>533</td>\n",
       "    </tr>\n",
       "    <tr>\n",
       "      <th>time</th>\n",
       "      <td>11988</td>\n",
       "      <td>11312</td>\n",
       "      <td>20:45:00</td>\n",
       "      <td>4</td>\n",
       "    </tr>\n",
       "    <tr>\n",
       "      <th>timezone</th>\n",
       "      <td>11988</td>\n",
       "      <td>3</td>\n",
       "      <td>Hora oficial do Brasil</td>\n",
       "      <td>6605</td>\n",
       "    </tr>\n",
       "    <tr>\n",
       "      <th>username</th>\n",
       "      <td>11988</td>\n",
       "      <td>3413</td>\n",
       "      <td>ailtonbenedito</td>\n",
       "      <td>168</td>\n",
       "    </tr>\n",
       "    <tr>\n",
       "      <th>name</th>\n",
       "      <td>11988</td>\n",
       "      <td>3400</td>\n",
       "      <td>🇧🇷Ailton Benedito</td>\n",
       "      <td>168</td>\n",
       "    </tr>\n",
       "    <tr>\n",
       "      <th>tweet</th>\n",
       "      <td>11988</td>\n",
       "      <td>11868</td>\n",
       "      <td>e se a gente der CLOROQUINA para os CNPJS??</td>\n",
       "      <td>8</td>\n",
       "    </tr>\n",
       "    <tr>\n",
       "      <th>categoria</th>\n",
       "      <td>600</td>\n",
       "      <td>9</td>\n",
       "      <td>favor</td>\n",
       "      <td>365</td>\n",
       "    </tr>\n",
       "    <tr>\n",
       "      <th>desinfo</th>\n",
       "      <td>156</td>\n",
       "      <td>3</td>\n",
       "      <td>desinf</td>\n",
       "      <td>92</td>\n",
       "    </tr>\n",
       "    <tr>\n",
       "      <th>mentions</th>\n",
       "      <td>11987</td>\n",
       "      <td>946</td>\n",
       "      <td>[]</td>\n",
       "      <td>9675</td>\n",
       "    </tr>\n",
       "    <tr>\n",
       "      <th>urls</th>\n",
       "      <td>11988</td>\n",
       "      <td>3320</td>\n",
       "      <td>[]</td>\n",
       "      <td>8083</td>\n",
       "    </tr>\n",
       "    <tr>\n",
       "      <th>hashtags</th>\n",
       "      <td>11988</td>\n",
       "      <td>595</td>\n",
       "      <td>[]</td>\n",
       "      <td>10547</td>\n",
       "    </tr>\n",
       "    <tr>\n",
       "      <th>link</th>\n",
       "      <td>11988</td>\n",
       "      <td>11988</td>\n",
       "      <td>https://twitter.com/iamlumina/status/125823119...</td>\n",
       "      <td>1</td>\n",
       "    </tr>\n",
       "    <tr>\n",
       "      <th>quote_url</th>\n",
       "      <td>736</td>\n",
       "      <td>619</td>\n",
       "      <td>https://twitter.com/CNNBrasil/status/128026191...</td>\n",
       "      <td>10</td>\n",
       "    </tr>\n",
       "    <tr>\n",
       "      <th>reply_to</th>\n",
       "      <td>11988</td>\n",
       "      <td>4530</td>\n",
       "      <td>[{'user_id': '342403919', 'username': 'AiltonB...</td>\n",
       "      <td>149</td>\n",
       "    </tr>\n",
       "  </tbody>\n",
       "</table>\n",
       "</div>"
      ],
      "text/plain": [
       "           count unique                                                top  \\\n",
       "date       11988    167                                         2020-07-07   \n",
       "time       11988  11312                                           20:45:00   \n",
       "timezone   11988      3                             Hora oficial do Brasil   \n",
       "username   11988   3413                                     ailtonbenedito   \n",
       "name       11988   3400                                  🇧🇷Ailton Benedito   \n",
       "tweet      11988  11868        e se a gente der CLOROQUINA para os CNPJS??   \n",
       "categoria    600      9                                              favor   \n",
       "desinfo      156      3                                             desinf   \n",
       "mentions   11987    946                                                 []   \n",
       "urls       11988   3320                                                 []   \n",
       "hashtags   11988    595                                                 []   \n",
       "link       11988  11988  https://twitter.com/iamlumina/status/125823119...   \n",
       "quote_url    736    619  https://twitter.com/CNNBrasil/status/128026191...   \n",
       "reply_to   11988   4530  [{'user_id': '342403919', 'username': 'AiltonB...   \n",
       "\n",
       "            freq  \n",
       "date         533  \n",
       "time           4  \n",
       "timezone    6605  \n",
       "username     168  \n",
       "name         168  \n",
       "tweet          8  \n",
       "categoria    365  \n",
       "desinfo       92  \n",
       "mentions    9675  \n",
       "urls        8083  \n",
       "hashtags   10547  \n",
       "link           1  \n",
       "quote_url     10  \n",
       "reply_to     149  "
      ]
     },
     "execution_count": 9,
     "metadata": {},
     "output_type": "execute_result"
    }
   ],
   "source": [
    "df.describe(include='object').T"
   ]
  },
  {
   "cell_type": "code",
   "execution_count": 10,
   "metadata": {},
   "outputs": [],
   "source": [
    "df.drop(['user_rt_id', 'user_rt', 'retweet_id'], axis=1, inplace=True)"
   ]
  },
  {
   "cell_type": "code",
   "execution_count": 11,
   "metadata": {
    "scrolled": true
   },
   "outputs": [
    {
     "data": {
      "text/plain": [
       "NaN           11832\n",
       "desinf           92\n",
       "desinfo          55\n",
       "depoimento        9\n",
       "Name: desinfo, dtype: int64"
      ]
     },
     "execution_count": 11,
     "metadata": {},
     "output_type": "execute_result"
    }
   ],
   "source": [
    "df.desinfo.value_counts(dropna=False)"
   ]
  },
  {
   "cell_type": "code",
   "execution_count": 12,
   "metadata": {},
   "outputs": [],
   "source": [
    "df.desinfo = df.desinfo.replace('desinf', 'desinfo')"
   ]
  },
  {
   "cell_type": "code",
   "execution_count": 13,
   "metadata": {},
   "outputs": [],
   "source": [
    "df.desinfo = df.desinfo.replace('desinfo', 0)\n",
    "df.desinfo = df.desinfo.fillna(1)"
   ]
  },
  {
   "cell_type": "code",
   "execution_count": 14,
   "metadata": {},
   "outputs": [],
   "source": [
    "#apagar depoimentos\n",
    "df.drop(df[df.desinfo=='depoimento'].index, axis=0, inplace=True)\n",
    "df.desinfo = df.desinfo.astype(int)"
   ]
  },
  {
   "cell_type": "code",
   "execution_count": 15,
   "metadata": {},
   "outputs": [
    {
     "data": {
      "text/plain": [
       "1    11791\n",
       "0      143\n",
       "Name: desinfo, dtype: int64"
      ]
     },
     "execution_count": 15,
     "metadata": {},
     "output_type": "execute_result"
    }
   ],
   "source": [
    "df.desinfo.value_counts(dropna=False)"
   ]
  },
  {
   "cell_type": "code",
   "execution_count": 16,
   "metadata": {},
   "outputs": [
    {
     "name": "stdout",
     "output_type": "stream",
     "text": [
      "['Hora oficial do Brasil' '-3' 'UTC']\n"
     ]
    }
   ],
   "source": [
    "print(df.timezone.unique())\n",
    "df.timezone = 'GMT-3'"
   ]
  },
  {
   "cell_type": "code",
   "execution_count": 17,
   "metadata": {},
   "outputs": [],
   "source": [
    "df.urls = df.urls.replace('[]', np.nan) "
   ]
  },
  {
   "cell_type": "code",
   "execution_count": 18,
   "metadata": {},
   "outputs": [],
   "source": [
    "df.hashtags = df.hashtags.replace('[]', np.nan)"
   ]
  },
  {
   "cell_type": "code",
   "execution_count": 19,
   "metadata": {},
   "outputs": [],
   "source": [
    "df.mentions = df.mentions.replace('[]', np.nan)"
   ]
  },
  {
   "cell_type": "code",
   "execution_count": 20,
   "metadata": {},
   "outputs": [
    {
     "data": {
      "text/plain": [
       "id                     0\n",
       "conversation_id        0\n",
       "created_at             0\n",
       "date                   0\n",
       "time                   0\n",
       "timezone               0\n",
       "user_id                0\n",
       "username               0\n",
       "name                   0\n",
       "tweet                  0\n",
       "categoria          11362\n",
       "desinfo                0\n",
       "mentions            9628\n",
       "urls                8043\n",
       "replies_count          0\n",
       "retweets_count         0\n",
       "likes_count            0\n",
       "hashtags           10499\n",
       "link                   0\n",
       "retweet                0\n",
       "quote_url          11202\n",
       "reply_to               0\n",
       "popularidade           0\n",
       "dtype: int64"
      ]
     },
     "execution_count": 20,
     "metadata": {},
     "output_type": "execute_result"
    }
   ],
   "source": [
    "df.isnull().sum()"
   ]
  },
  {
   "cell_type": "markdown",
   "metadata": {},
   "source": [
    "### Limpar o texto dos tweets para etapa posterior"
   ]
  },
  {
   "cell_type": "code",
   "execution_count": 21,
   "metadata": {},
   "outputs": [],
   "source": [
    "from nltk.corpus import stopwords\n",
    "import nltk\n",
    "import bs4 as bs4 \n",
    "import string\n",
    "import re\n",
    "import warnings\n",
    "warnings.filterwarnings(\"ignore\", category=UserWarning, module='bs4')\n",
    "\n",
    "def clean_text(sentence):\n",
    "    \n",
    "    # Taken and amended from this notebook https://www.kaggle.com/madz2000/nlp-using-glove-embeddings-99-87-accuracy\n",
    "    # Full credits to the author\n",
    "    \n",
    "    tmp_sentence = bs4.BeautifulSoup(sentence,\"html.parser\")\n",
    "    sentence = tmp_sentence.get_text()\n",
    "    sentence = re.sub('\\[[^]]*\\]', '', sentence)\n",
    "    sentence = re.sub(r'http\\S+', '', sentence)\n",
    "    \n",
    "    stop_words = set(stopwords.words('portuguese'))\n",
    "    puncts = list(string.punctuation)\n",
    "    stop_words.update(puncts)\n",
    "    \n",
    "    temp = []\n",
    "    for j in sentence.split():\n",
    "        if j.strip().lower() not in stop_words:\n",
    "            temp.append(j.strip())\n",
    "    sentence = \" \".join(temp)\n",
    "    return sentence"
   ]
  },
  {
   "cell_type": "code",
   "execution_count": 22,
   "metadata": {},
   "outputs": [
    {
     "name": "stderr",
     "output_type": "stream",
     "text": [
      "[nltk_data] Downloading package stopwords to /home/flavia/nltk_data...\n",
      "[nltk_data]   Package stopwords is already up-to-date!\n"
     ]
    },
    {
     "data": {
      "text/plain": [
       "True"
      ]
     },
     "execution_count": 22,
     "metadata": {},
     "output_type": "execute_result"
    }
   ],
   "source": [
    "nltk.download('stopwords')"
   ]
  },
  {
   "cell_type": "code",
   "execution_count": 23,
   "metadata": {},
   "outputs": [],
   "source": [
    "df['tweet'] = df['tweet'].apply(clean_text)"
   ]
  },
  {
   "cell_type": "code",
   "execution_count": 24,
   "metadata": {},
   "outputs": [],
   "source": [
    "df.to_csv('tweets.csv', index=False)"
   ]
  },
  {
   "cell_type": "markdown",
   "metadata": {},
   "source": [
    "### Em `exploratory.ipynb` os dados continuam sendo tratados para treinar o modelo"
   ]
  }
 ],
 "metadata": {
  "kernelspec": {
   "display_name": "Python 3",
   "language": "python",
   "name": "python3"
  },
  "language_info": {
   "codemirror_mode": {
    "name": "ipython",
    "version": 3
   },
   "file_extension": ".py",
   "mimetype": "text/x-python",
   "name": "python",
   "nbconvert_exporter": "python",
   "pygments_lexer": "ipython3",
   "version": "3.6.9"
  }
 },
 "nbformat": 4,
 "nbformat_minor": 4
}
